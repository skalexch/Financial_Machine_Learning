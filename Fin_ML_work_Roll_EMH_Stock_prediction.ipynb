{
 "cells": [
  {
   "cell_type": "markdown",
   "metadata": {},
   "source": [
    "# Financial Machine Learning - EGES 3\n",
    "### Assignment 2 Practical Part - Skander Chouchene\n",
    "    Parts:\n",
    "    I/Style factor attribution of portfolio returns\n",
    "    II/The Roll’s measure (spread)\n",
    "    III/Testing the EMH\n",
    "    IV/High frequency stock direction prediction\n",
    "    V/Execution strategies"
   ]
  },
  {
   "cell_type": "code",
   "execution_count": 1,
   "metadata": {},
   "outputs": [],
   "source": [
    "import numpy as np\n",
    "import pandas as pd\n",
    "import matplotlib.pyplot as plt\n",
    "import seaborn as sns\n",
    "from sklearn.preprocessing import LabelEncoder\n",
    "from sklearn.model_selection import train_test_split\n",
    "from sklearn.linear_model import LinearRegression, LogisticRegression\n",
    "from sklearn.metrics import accuracy_score\n"
   ]
  },
  {
   "cell_type": "markdown",
   "metadata": {},
   "source": [
    "# I) Style factor attribution of portfolio returns"
   ]
  },
  {
   "cell_type": "code",
   "execution_count": 2,
   "metadata": {},
   "outputs": [
    {
     "name": "stderr",
     "output_type": "stream",
     "text": [
      "<ipython-input-2-42662e525862>:1: ParserWarning: Falling back to the 'python' engine because the 'c' engine does not support sep=None with delim_whitespace=False; you can avoid this warning by specifying engine='python'.\n",
      "  factors=pd.read_csv(\"factors.csv\",sep=None,index_col=0)\n",
      "<ipython-input-2-42662e525862>:2: ParserWarning: Falling back to the 'python' engine because the 'c' engine does not support sep=None with delim_whitespace=False; you can avoid this warning by specifying engine='python'.\n",
      "  momentum=pd.read_csv(\"momentum.csv\",sep=None,index_col=0).iloc[:-2]\n"
     ]
    }
   ],
   "source": [
    "factors=pd.read_csv(\"factors.csv\",sep=None,index_col=0)\n",
    "momentum=pd.read_csv(\"momentum.csv\",sep=None,index_col=0).iloc[:-2]"
   ]
  },
  {
   "cell_type": "code",
   "execution_count": 3,
   "metadata": {},
   "outputs": [],
   "source": [
    "portfolio_ret=pd.read_csv(\"daily_portef_ret.csv\",index_col=0)"
   ]
  },
  {
   "cell_type": "code",
   "execution_count": 4,
   "metadata": {},
   "outputs": [],
   "source": [
    "factors[\"Mkt\"]=factors[\"Mkt-RF\"]+factors[\"RF\"]\n",
    "factors.drop([\"Mkt-RF\",\"RF\"],inplace=True,axis=1)\n",
    "\n",
    "factors=factors.loc[20100104:20200924]\n",
    "momentum=momentum.loc['20100104':'20200924']\n"
   ]
  },
  {
   "cell_type": "code",
   "execution_count": 5,
   "metadata": {},
   "outputs": [],
   "source": [
    "def strtodateformat(ch):\n",
    "    return ch[:4]+'-'+ch[4:6]+'-'+ch[6:]"
   ]
  },
  {
   "cell_type": "code",
   "execution_count": 6,
   "metadata": {},
   "outputs": [],
   "source": [
    "l=factors.index.copy()\n",
    "l=l.astype(str)\n",
    "l=[strtodateformat(k) for k in l]\n",
    "factors[\"l\"]=l\n",
    "factors.set_index(\"l\",inplace=True)\n",
    "factors.index=pd.to_datetime(factors.index, format='%Y-%m-%d', errors='ignore')\n",
    "\n",
    "\n",
    "j=momentum.index.copy()\n",
    "j=[strtodateformat(k) for k in j]\n",
    "momentum[\"j\"]=j\n",
    "momentum.set_index(\"j\",inplace=True)\n",
    "momentum.index=pd.to_datetime(momentum.index, format='%Y-%m-%d', errors='ignore')\n"
   ]
  },
  {
   "cell_type": "code",
   "execution_count": 7,
   "metadata": {},
   "outputs": [],
   "source": [
    "portfolio_ret=portfolio_ret.join(factors)\n",
    "portfolio_ret=portfolio_ret.join(momentum)\n",
    "portfolio_ret.dropna(inplace=True)"
   ]
  },
  {
   "cell_type": "code",
   "execution_count": 8,
   "metadata": {},
   "outputs": [
    {
     "data": {
      "text/html": [
       "<div>\n",
       "<style scoped>\n",
       "    .dataframe tbody tr th:only-of-type {\n",
       "        vertical-align: middle;\n",
       "    }\n",
       "\n",
       "    .dataframe tbody tr th {\n",
       "        vertical-align: top;\n",
       "    }\n",
       "\n",
       "    .dataframe thead th {\n",
       "        text-align: right;\n",
       "    }\n",
       "</style>\n",
       "<table border=\"1\" class=\"dataframe\">\n",
       "  <thead>\n",
       "    <tr style=\"text-align: right;\">\n",
       "      <th></th>\n",
       "      <th>Portfolio</th>\n",
       "      <th>SMB</th>\n",
       "      <th>HML</th>\n",
       "      <th>RMW</th>\n",
       "      <th>CMA</th>\n",
       "      <th>Mkt</th>\n",
       "      <th>Mom</th>\n",
       "    </tr>\n",
       "  </thead>\n",
       "  <tbody>\n",
       "    <tr>\n",
       "      <th>2020-09-24</th>\n",
       "      <td>4201.281095</td>\n",
       "      <td>-0.20</td>\n",
       "      <td>0.32</td>\n",
       "      <td>0.49</td>\n",
       "      <td>0.11</td>\n",
       "      <td>0.25</td>\n",
       "      <td>-0.06</td>\n",
       "    </tr>\n",
       "    <tr>\n",
       "      <th>2020-09-23</th>\n",
       "      <td>4483.961919</td>\n",
       "      <td>-0.63</td>\n",
       "      <td>0.19</td>\n",
       "      <td>0.26</td>\n",
       "      <td>-0.12</td>\n",
       "      <td>-2.48</td>\n",
       "      <td>0.29</td>\n",
       "    </tr>\n",
       "    <tr>\n",
       "      <th>2020-09-22</th>\n",
       "      <td>4984.438765</td>\n",
       "      <td>-0.45</td>\n",
       "      <td>-1.65</td>\n",
       "      <td>0.60</td>\n",
       "      <td>-0.55</td>\n",
       "      <td>1.02</td>\n",
       "      <td>1.90</td>\n",
       "    </tr>\n",
       "    <tr>\n",
       "      <th>2020-09-21</th>\n",
       "      <td>1907.606756</td>\n",
       "      <td>-2.58</td>\n",
       "      <td>-1.91</td>\n",
       "      <td>-0.46</td>\n",
       "      <td>-0.32</td>\n",
       "      <td>-1.08</td>\n",
       "      <td>2.90</td>\n",
       "    </tr>\n",
       "    <tr>\n",
       "      <th>2020-09-18</th>\n",
       "      <td>9913.841793</td>\n",
       "      <td>0.74</td>\n",
       "      <td>-0.17</td>\n",
       "      <td>-1.11</td>\n",
       "      <td>-0.46</td>\n",
       "      <td>-0.88</td>\n",
       "      <td>0.94</td>\n",
       "    </tr>\n",
       "  </tbody>\n",
       "</table>\n",
       "</div>"
      ],
      "text/plain": [
       "              Portfolio   SMB   HML   RMW   CMA   Mkt  Mom   \n",
       "2020-09-24  4201.281095 -0.20  0.32  0.49  0.11  0.25   -0.06\n",
       "2020-09-23  4483.961919 -0.63  0.19  0.26 -0.12 -2.48    0.29\n",
       "2020-09-22  4984.438765 -0.45 -1.65  0.60 -0.55  1.02    1.90\n",
       "2020-09-21  1907.606756 -2.58 -1.91 -0.46 -0.32 -1.08    2.90\n",
       "2020-09-18  9913.841793  0.74 -0.17 -1.11 -0.46 -0.88    0.94"
      ]
     },
     "execution_count": 8,
     "metadata": {},
     "output_type": "execute_result"
    }
   ],
   "source": [
    "portfolio_ret.head()"
   ]
  },
  {
   "cell_type": "code",
   "execution_count": 9,
   "metadata": {},
   "outputs": [],
   "source": [
    "#We should scale down the returns\n",
    "from sklearn.preprocessing import StandardScaler\n",
    "scaler = StandardScaler()\n",
    "scaler.fit(portfolio_ret[\"Portfolio\"].to_numpy().reshape(-1, 1))\n",
    "portfolio_ret[\"Portfolio\"]=scaler.transform(portfolio_ret[\"Portfolio\"].to_numpy().reshape(-1, 1))"
   ]
  },
  {
   "cell_type": "code",
   "execution_count": 10,
   "metadata": {},
   "outputs": [
    {
     "data": {
      "text/plain": [
       "0.003763634616077871"
      ]
     },
     "execution_count": 10,
     "metadata": {},
     "output_type": "execute_result"
    }
   ],
   "source": [
    "from sklearn.linear_model import LinearRegression\n",
    "from sklearn.model_selection import train_test_split\n",
    "from sklearn.metrics import mean_squared_error\n",
    "X_train, X_test, y_train, y_test=train_test_split(portfolio_ret.drop(\"Portfolio\",axis=1),portfolio_ret[\"Portfolio\"],test_size=0.2)\n",
    "reg=LinearRegression()\n",
    "reg.fit(X_train,y_train)\n",
    "pred=reg.predict(X_test)\n",
    "mean_squared_error(pred,y_test)\n",
    "reg.score(X_train,y_train)"
   ]
  },
  {
   "cell_type": "code",
   "execution_count": 11,
   "metadata": {},
   "outputs": [],
   "source": [
    "import statsmodels.api as sm"
   ]
  },
  {
   "cell_type": "code",
   "execution_count": 12,
   "metadata": {},
   "outputs": [
    {
     "name": "stdout",
     "output_type": "stream",
     "text": [
      "Summary for model\n",
      "                                 OLS Regression Results                                \n",
      "=======================================================================================\n",
      "Dep. Variable:                      y   R-squared (uncentered):                   0.002\n",
      "Model:                            OLS   Adj. R-squared (uncentered):              0.000\n",
      "Method:                 Least Squares   F-statistic:                              1.082\n",
      "Date:                Fri, 06 Nov 2020   Prob (F-statistic):                       0.370\n",
      "Time:                        20:24:36   Log-Likelihood:                         -3791.0\n",
      "No. Observations:                2674   AIC:                                      7594.\n",
      "Df Residuals:                    2668   BIC:                                      7629.\n",
      "Df Model:                           6                                                  \n",
      "Covariance Type:            nonrobust                                                  \n",
      "==============================================================================\n",
      "                 coef    std err          t      P>|t|      [0.025      0.975]\n",
      "------------------------------------------------------------------------------\n",
      "x1             0.0307      0.037      0.820      0.412      -0.043       0.104\n",
      "x2            -0.0476      0.043     -1.120      0.263      -0.131       0.036\n",
      "x3             0.0477      0.057      0.843      0.399      -0.063       0.159\n",
      "x4             0.0229      0.074      0.308      0.758      -0.123       0.169\n",
      "x5            -0.0246      0.019     -1.285      0.199      -0.062       0.013\n",
      "x6             0.0104      0.028      0.372      0.710      -0.045       0.065\n",
      "==============================================================================\n",
      "Omnibus:                     3777.551   Durbin-Watson:                   0.269\n",
      "Prob(Omnibus):                  0.000   Jarque-Bera (JB):           846476.431\n",
      "Skew:                           8.352   Prob(JB):                         0.00\n",
      "Kurtosis:                      88.548   Cond. No.                         4.79\n",
      "==============================================================================\n",
      "\n",
      "Warnings:\n",
      "[1] Standard Errors assume that the covariance matrix of the errors is correctly specified.\n",
      "\n",
      " \n",
      "\n"
     ]
    }
   ],
   "source": [
    "portfolio_ret.dropna(inplace=True)\n",
    "X=portfolio_ret.iloc[:,1:].values\n",
    "y=portfolio_ret[\"Portfolio\"].values\n",
    "size = int(len(X) * 0.8)\n",
    "model = sm.OLS(y,X)\n",
    "results = model.fit()\n",
    "print(\"Summary for model\")\n",
    "print(results.summary())\n",
    "print(\"\\n \\n\")"
   ]
  },
  {
   "cell_type": "markdown",
   "metadata": {},
   "source": [
    "\n",
    "\n"
   ]
  },
  {
   "cell_type": "markdown",
   "metadata": {},
   "source": [
    "\n",
    "\n",
    "\n"
   ]
  },
  {
   "cell_type": "markdown",
   "metadata": {},
   "source": [
    "# II) The Roll’s measure (spread)"
   ]
  },
  {
   "cell_type": "markdown",
   "metadata": {},
   "source": [
    "### 1) Importing Data"
   ]
  },
  {
   "cell_type": "code",
   "execution_count": 13,
   "metadata": {},
   "outputs": [],
   "source": [
    "import os\n",
    "import glob\n",
    "directory=os.getcwd()+\"\\\\DOW\\\\\"\n",
    "files = glob.glob(os.getcwd()+\"\\\\DOW\\\\*.csv\")"
   ]
  },
  {
   "cell_type": "code",
   "execution_count": 14,
   "metadata": {},
   "outputs": [],
   "source": [
    "DOW=[]\n",
    "for i in range(len(files)):\n",
    "    df=pd.read_csv(files[i])\n",
    "    df.Date=pd.to_datetime(df.Date, format='%Y-%m-%d', errors='ignore')\n",
    "    DOW.append(df)"
   ]
  },
  {
   "cell_type": "code",
   "execution_count": 15,
   "metadata": {},
   "outputs": [],
   "source": [
    "DJI=pd.read_csv(\"DJI.csv\")"
   ]
  },
  {
   "cell_type": "code",
   "execution_count": 16,
   "metadata": {},
   "outputs": [],
   "source": [
    "#DOW[0].reindex(index=DOW[0].index[::-1])"
   ]
  },
  {
   "cell_type": "code",
   "execution_count": 17,
   "metadata": {},
   "outputs": [],
   "source": [
    "stock_names=[\"AAPL\",\"AMGN\",\"AXP\",\"BA\",\"CAT\",\"CRM\",\"CSCO\",\"CVX\",\"DIS\",\"DOW\",\"GS\",\"HD\",\"HON\",\"IBM\",\"INTC\",\"JNJ\",\"JPM\",\"KO\",\"MCD\",\"MMM\",\"MRK\",\"MSFT\",\"NKE\",\"PG\",\"TRV\",\"UNH\",\"V\",\"VZ\",\"WBA\",\"WMT\"]"
   ]
  },
  {
   "cell_type": "markdown",
   "metadata": {},
   "source": [
    "### 2) 3) 4) 5) Computing Features/Target"
   ]
  },
  {
   "cell_type": "code",
   "execution_count": 18,
   "metadata": {},
   "outputs": [],
   "source": [
    "#Defining Returns and SMA functions\n",
    "def returns(df,n):\n",
    "    ch=\"Returns_\"+str(n)\n",
    "    d=10000*np.log(df[\"Close\"]/df.shift(n)[\"Close\"])\n",
    "    return d,ch\n",
    "\n",
    "def SMA(df,t,n):\n",
    "    return (df[\"Close\"].iloc[t-n:t].sum())/n\n",
    "\n",
    "\n",
    "def sma_change(df,n):\n",
    "    \n",
    "    ch=str(n)\n",
    "    ch=\"sma_change_\"+ch\n",
    "    d=[np.nan for i in range(df.shape[0])]\n",
    "    \n",
    "    for t in range(n,df.shape[0]):\n",
    "        d[t]=-1+df[\"Close\"].iloc[t]/SMA(df,t,n)\n",
    "    return d,ch\n",
    "\n",
    "def roll():\n",
    "    return 0"
   ]
  },
  {
   "cell_type": "code",
   "execution_count": 19,
   "metadata": {},
   "outputs": [],
   "source": [
    "l=[]\n",
    "for i in range(len(DOW)):\n",
    "    k=DOW[i]\n",
    "    for n in [1,2,5,10,20,60]:\n",
    "        d,ch=returns(DOW[i],n)\n",
    "        k[ch]=d                \n",
    "        d2,ch2=sma_change(DOW[i],n)\n",
    "        k[ch2]=d2\n",
    "    l.append(k)\n",
    "        #DOW[i].dropna(axis=0,inplace=True)\n",
    "DOW=l"
   ]
  },
  {
   "cell_type": "code",
   "execution_count": 20,
   "metadata": {},
   "outputs": [],
   "source": [
    "for i in range(len(DOW)):\n",
    "    stock,ch=returns(DOW[i],-1)\n",
    "    DOW[i][\"next_return\"]=stock\n",
    "    DOW[i].dropna(axis=0,inplace=True)"
   ]
  },
  {
   "cell_type": "code",
   "execution_count": 21,
   "metadata": {},
   "outputs": [],
   "source": [
    "DOW_df=pd.concat(DOW)"
   ]
  },
  {
   "cell_type": "code",
   "execution_count": 22,
   "metadata": {},
   "outputs": [
    {
     "data": {
      "text/html": [
       "<div>\n",
       "<style scoped>\n",
       "    .dataframe tbody tr th:only-of-type {\n",
       "        vertical-align: middle;\n",
       "    }\n",
       "\n",
       "    .dataframe tbody tr th {\n",
       "        vertical-align: top;\n",
       "    }\n",
       "\n",
       "    .dataframe thead th {\n",
       "        text-align: right;\n",
       "    }\n",
       "</style>\n",
       "<table border=\"1\" class=\"dataframe\">\n",
       "  <thead>\n",
       "    <tr style=\"text-align: right;\">\n",
       "      <th></th>\n",
       "      <th>Date</th>\n",
       "      <th>Open</th>\n",
       "      <th>High</th>\n",
       "      <th>Low</th>\n",
       "      <th>Close</th>\n",
       "      <th>Adj Close</th>\n",
       "      <th>Volume</th>\n",
       "      <th>Returns_1</th>\n",
       "      <th>sma_change_1</th>\n",
       "      <th>Returns_2</th>\n",
       "      <th>sma_change_2</th>\n",
       "      <th>Returns_5</th>\n",
       "      <th>sma_change_5</th>\n",
       "      <th>Returns_10</th>\n",
       "      <th>sma_change_10</th>\n",
       "      <th>Returns_20</th>\n",
       "      <th>sma_change_20</th>\n",
       "      <th>Returns_60</th>\n",
       "      <th>sma_change_60</th>\n",
       "      <th>next_return</th>\n",
       "    </tr>\n",
       "  </thead>\n",
       "  <tbody>\n",
       "    <tr>\n",
       "      <th>60</th>\n",
       "      <td>2000-03-29</td>\n",
       "      <td>1.244420</td>\n",
       "      <td>1.244978</td>\n",
       "      <td>1.194894</td>\n",
       "      <td>1.213728</td>\n",
       "      <td>1.048830</td>\n",
       "      <td>239836800</td>\n",
       "      <td>-231.777260</td>\n",
       "      <td>-0.022911</td>\n",
       "      <td>-263.172441</td>\n",
       "      <td>-0.024445</td>\n",
       "      <td>-589.187447</td>\n",
       "      <td>-3.298931e-02</td>\n",
       "      <td>1564.528545</td>\n",
       "      <td>0.027010</td>\n",
       "      <td>422.604732</td>\n",
       "      <td>0.062816</td>\n",
       "      <td>1942.547706</td>\n",
       "      <td>0.189302</td>\n",
       "      <td>778.995499</td>\n",
       "    </tr>\n",
       "    <tr>\n",
       "      <th>61</th>\n",
       "      <td>2000-03-30</td>\n",
       "      <td>1.192522</td>\n",
       "      <td>1.229353</td>\n",
       "      <td>1.119978</td>\n",
       "      <td>1.122768</td>\n",
       "      <td>0.970228</td>\n",
       "      <td>414400000</td>\n",
       "      <td>-778.995499</td>\n",
       "      <td>-0.074943</td>\n",
       "      <td>-1010.772759</td>\n",
       "      <td>-0.085663</td>\n",
       "      <td>-1166.780120</td>\n",
       "      <td>-9.483538e-02</td>\n",
       "      <td>338.678302</td>\n",
       "      <td>-0.063881</td>\n",
       "      <td>302.746292</td>\n",
       "      <td>-0.018991</td>\n",
       "      <td>2044.326693</td>\n",
       "      <td>0.096336</td>\n",
       "      <td>-769.796458</td>\n",
       "    </tr>\n",
       "    <tr>\n",
       "      <th>62</th>\n",
       "      <td>2000-03-31</td>\n",
       "      <td>1.137835</td>\n",
       "      <td>1.225446</td>\n",
       "      <td>1.125000</td>\n",
       "      <td>1.212612</td>\n",
       "      <td>1.047865</td>\n",
       "      <td>404633600</td>\n",
       "      <td>769.796458</td>\n",
       "      <td>0.080020</td>\n",
       "      <td>-9.199041</td>\n",
       "      <td>0.037975</td>\n",
       "      <td>-209.474168</td>\n",
       "      <td>1.649332e-07</td>\n",
       "      <td>829.622287</td>\n",
       "      <td>0.007885</td>\n",
       "      <td>592.454431</td>\n",
       "      <td>0.057962</td>\n",
       "      <td>2668.851444</td>\n",
       "      <td>0.180078</td>\n",
       "      <td>185.797358</td>\n",
       "    </tr>\n",
       "    <tr>\n",
       "      <th>63</th>\n",
       "      <td>2000-04-03</td>\n",
       "      <td>1.209821</td>\n",
       "      <td>1.245536</td>\n",
       "      <td>1.155692</td>\n",
       "      <td>1.190290</td>\n",
       "      <td>1.028576</td>\n",
       "      <td>328563200</td>\n",
       "      <td>-185.797358</td>\n",
       "      <td>-0.018408</td>\n",
       "      <td>583.999100</td>\n",
       "      <td>0.019354</td>\n",
       "      <td>-458.168840</td>\n",
       "      <td>-1.423463e-02</td>\n",
       "      <td>805.117510</td>\n",
       "      <td>-0.018543</td>\n",
       "      <td>588.970196</td>\n",
       "      <td>0.035336</td>\n",
       "      <td>3388.192914</td>\n",
       "      <td>0.153043</td>\n",
       "      <td>460.509323</td>\n",
       "    </tr>\n",
       "    <tr>\n",
       "      <th>64</th>\n",
       "      <td>2000-04-04</td>\n",
       "      <td>1.184152</td>\n",
       "      <td>1.187500</td>\n",
       "      <td>1.042411</td>\n",
       "      <td>1.136719</td>\n",
       "      <td>0.982283</td>\n",
       "      <td>660329600</td>\n",
       "      <td>-460.509323</td>\n",
       "      <td>-0.045007</td>\n",
       "      <td>-646.306681</td>\n",
       "      <td>-0.053878</td>\n",
       "      <td>-887.282982</td>\n",
       "      <td>-4.981806e-02</td>\n",
       "      <td>-581.667054</td>\n",
       "      <td>-0.069778</td>\n",
       "      <td>354.775308</td>\n",
       "      <td>-0.014180</td>\n",
       "      <td>2464.871089</td>\n",
       "      <td>0.095100</td>\n",
       "      <td>-237.704289</td>\n",
       "    </tr>\n",
       "  </tbody>\n",
       "</table>\n",
       "</div>"
      ],
      "text/plain": [
       "         Date      Open      High       Low     Close  Adj Close     Volume  \\\n",
       "60 2000-03-29  1.244420  1.244978  1.194894  1.213728   1.048830  239836800   \n",
       "61 2000-03-30  1.192522  1.229353  1.119978  1.122768   0.970228  414400000   \n",
       "62 2000-03-31  1.137835  1.225446  1.125000  1.212612   1.047865  404633600   \n",
       "63 2000-04-03  1.209821  1.245536  1.155692  1.190290   1.028576  328563200   \n",
       "64 2000-04-04  1.184152  1.187500  1.042411  1.136719   0.982283  660329600   \n",
       "\n",
       "     Returns_1  sma_change_1    Returns_2  sma_change_2    Returns_5  \\\n",
       "60 -231.777260     -0.022911  -263.172441     -0.024445  -589.187447   \n",
       "61 -778.995499     -0.074943 -1010.772759     -0.085663 -1166.780120   \n",
       "62  769.796458      0.080020    -9.199041      0.037975  -209.474168   \n",
       "63 -185.797358     -0.018408   583.999100      0.019354  -458.168840   \n",
       "64 -460.509323     -0.045007  -646.306681     -0.053878  -887.282982   \n",
       "\n",
       "    sma_change_5   Returns_10  sma_change_10  Returns_20  sma_change_20  \\\n",
       "60 -3.298931e-02  1564.528545       0.027010  422.604732       0.062816   \n",
       "61 -9.483538e-02   338.678302      -0.063881  302.746292      -0.018991   \n",
       "62  1.649332e-07   829.622287       0.007885  592.454431       0.057962   \n",
       "63 -1.423463e-02   805.117510      -0.018543  588.970196       0.035336   \n",
       "64 -4.981806e-02  -581.667054      -0.069778  354.775308      -0.014180   \n",
       "\n",
       "     Returns_60  sma_change_60  next_return  \n",
       "60  1942.547706       0.189302   778.995499  \n",
       "61  2044.326693       0.096336  -769.796458  \n",
       "62  2668.851444       0.180078   185.797358  \n",
       "63  3388.192914       0.153043   460.509323  \n",
       "64  2464.871089       0.095100  -237.704289  "
      ]
     },
     "execution_count": 22,
     "metadata": {},
     "output_type": "execute_result"
    }
   ],
   "source": [
    "DOW_df.head()"
   ]
  },
  {
   "cell_type": "markdown",
   "metadata": {},
   "source": [
    "### 5) Correlation between predictors and Y"
   ]
  },
  {
   "cell_type": "code",
   "execution_count": 23,
   "metadata": {},
   "outputs": [],
   "source": [
    "from scipy.stats import pearsonr\n",
    "def corr_and_pval(data):\n",
    "    coeffmat = np.zeros((data.shape[1], data.shape[1]))\n",
    "    pvalmat = np.zeros((data.shape[1], data.shape[1]))\n",
    "\n",
    "    for i in range(data.shape[1]):    \n",
    "        for j in range(data.shape[1]):\n",
    "            corrtest = pearsonr(data[data.columns[i]], data[data.columns[j]])\n",
    "\n",
    "            coeffmat[i,j] = corrtest[0]\n",
    "            pvalmat[i,j] = corrtest[1]\n",
    "    return coeffmat, pvalmat"
   ]
  },
  {
   "cell_type": "code",
   "execution_count": 24,
   "metadata": {},
   "outputs": [
    {
     "data": {
      "image/png": "[encoded data removed]",
      "text/plain": [
       "<Figure size 2160x360 with 2 Axes>"
      ]
     },
     "metadata": {
      "needs_background": "light"
     },
     "output_type": "display_data"
    }
   ],
   "source": [
    "fig, (ax1,ax2) =plt.subplots(2,1,figsize=(30,5))\n",
    "data=DOW_df.iloc[:,1:]\n",
    "corr_mat=data.corr(method=\"pearson\").loc[['next_return'],:]\n",
    "#plt.figure(figsize=(20,60))\n",
    "    \n",
    "title=\"Correlation between variables and next_return\"\n",
    "title2=\"Statistical significance (p-value) between variables and next_return\"\n",
    "    \n",
    "sns.heatmap(corr_mat,vmax=1,square=True,annot=True,cmap='RdYlBu_r',cbar=False,ax=ax1)\n",
    "ax1.set_title(title,fontdict={'fontsize': 18})\n",
    "    \n",
    "sns.heatmap(np.transpose(corr_and_pval(data)[1][0].reshape(corr_and_pval(data)[1][:,0].shape[0],1)),xticklabels=data.columns,vmax=1,square=True,annot=True,cmap=\"autumn\",cbar=False,ax=ax2)\n",
    "ax2.set_title(title2,fontdict={'fontsize': 18})\n",
    "\n",
    "plt.subplots_adjust(bottom=0.1, right=0.8, top=0.9, hspace=2, wspace=0.5)\n"
   ]
  },
  {
   "cell_type": "markdown",
   "metadata": {},
   "source": [
    "### 6) Scatter plots"
   ]
  },
  {
   "cell_type": "code",
   "execution_count": 25,
   "metadata": {},
   "outputs": [],
   "source": [
    "def bscatter(X,Y,k):\n",
    "    Xnom, thresh=pd.qcut(X, k, retbins=True)\n",
    "    tp = pd.DataFrame({'Xnom': Xnom, 'X': X, 'Y':Y})\n",
    "    GMn  = tp.groupby('Xnom').mean()\n",
    "    SeMn = tp.groupby('Xnom').std()/ np.sqrt(tp.groupby('Xnom').count())\n",
    "    Xq = GMn.X\n",
    "    Yq = GMn.Y\n",
    "    XSe = SeMn.X\n",
    "    YSe = SeMn.Y\n",
    "    return(Xq,XSe,Yq,YSe)"
   ]
  },
  {
   "cell_type": "code",
   "execution_count": 26,
   "metadata": {},
   "outputs": [
    {
     "data": {
      "image/png": "[encoded data removed]",
      "text/plain": [
       "<Figure size 720x720 with 18 Axes>"
      ]
     },
     "metadata": {
      "needs_background": "light"
     },
     "output_type": "display_data"
    }
   ],
   "source": [
    "fig, ax = plt.subplots(figsize=(10,10),nrows=6,ncols=3)\n",
    "title='20-Binned scatter plots for the predictors and Y'\n",
    "fig.suptitle(title, fontsize=16)\n",
    "columns=DOW_df.columns[1:-1]    \n",
    "for j in range(len(columns)):\n",
    "    col=columns[j]\n",
    "    Xq,XSe,Yq,YSe=bscatter(DOW_df[col].values,DOW_df['next_return'].values, 20)\n",
    "\n",
    "    ax[j//3,j%3].scatter(x=Xq,y=Yq)\n",
    "    ax[j//3,j%3].set_xlabel(col)\n",
    "    ax[j//3,j%3].set_ylabel(\"next_return\")\n",
    "\n",
    "plt.subplots_adjust(bottom=0.1, right=0.8, top=0.9, hspace=0.5, wspace=0.5)\n",
    "plt.show()\n"
   ]
  },
  {
   "cell_type": "markdown",
   "metadata": {},
   "source": [
    "### 7) Binning Y"
   ]
  },
  {
   "cell_type": "code",
   "execution_count": 27,
   "metadata": {},
   "outputs": [],
   "source": [
    "def sign(x):\n",
    "    if x==0:\n",
    "        return 0\n",
    "    else:\n",
    "        return int(x/abs(x))\n",
    "    \n",
    "for stock in DOW:\n",
    "    Y=stock[\"next_return\"]\n",
    "    mean=stock[\"next_return\"].mean()\n",
    "    Y=Y-mean\n",
    "    Y=Y.apply(sign)\n",
    "    stock[\"Y\"]=Y"
   ]
  },
  {
   "cell_type": "markdown",
   "metadata": {},
   "source": [
    "### 8) Classification"
   ]
  },
  {
   "cell_type": "code",
   "execution_count": 28,
   "metadata": {},
   "outputs": [],
   "source": [
    "from sklearn.model_selection import train_test_split"
   ]
  },
  {
   "cell_type": "code",
   "execution_count": 29,
   "metadata": {},
   "outputs": [],
   "source": [
    "X_train,X_val,y_train,y_val=train_test_split(stock.iloc[:,6:-2],stock[\"Y\"],test_size=0.2)"
   ]
  },
  {
   "cell_type": "markdown",
   "metadata": {},
   "source": [
    "#### Logistic Regression"
   ]
  },
  {
   "cell_type": "code",
   "execution_count": 30,
   "metadata": {},
   "outputs": [],
   "source": [
    "from sklearn.linear_model import LogisticRegression\n",
    "from sklearn.metrics import accuracy_score,classification_report"
   ]
  },
  {
   "cell_type": "code",
   "execution_count": 31,
   "metadata": {
    "scrolled": true
   },
   "outputs": [
    {
     "data": {
      "text/plain": [
       "0.49613899613899615"
      ]
     },
     "execution_count": 31,
     "metadata": {},
     "output_type": "execute_result"
    }
   ],
   "source": [
    "model=LogisticRegression()\n",
    "model.fit(X_train,y_train)\n",
    "pred=model.predict(X_val)\n",
    "accuracy_score(pred,y_val)"
   ]
  },
  {
   "cell_type": "code",
   "execution_count": 32,
   "metadata": {},
   "outputs": [
    {
     "name": "stdout",
     "output_type": "stream",
     "text": [
      "              precision    recall  f1-score   support\n",
      "\n",
      "          -1       1.00      0.50      0.66      1036\n",
      "           1       0.00      0.00      0.00         0\n",
      "\n",
      "    accuracy                           0.50      1036\n",
      "   macro avg       0.50      0.25      0.33      1036\n",
      "weighted avg       1.00      0.50      0.66      1036\n",
      "\n"
     ]
    },
    {
     "name": "stderr",
     "output_type": "stream",
     "text": [
      "C:\\Users\\ALEX\\Anaconda3\\lib\\site-packages\\sklearn\\metrics\\_classification.py:1221: UndefinedMetricWarning: Recall and F-score are ill-defined and being set to 0.0 in labels with no true samples. Use `zero_division` parameter to control this behavior.\n",
      "  _warn_prf(average, modifier, msg_start, len(result))\n"
     ]
    }
   ],
   "source": [
    "print(classification_report(pred,y_val))"
   ]
  },
  {
   "cell_type": "markdown",
   "metadata": {},
   "source": [
    "#### LDA"
   ]
  },
  {
   "cell_type": "code",
   "execution_count": 33,
   "metadata": {},
   "outputs": [],
   "source": [
    "from sklearn.discriminant_analysis import LinearDiscriminantAnalysis"
   ]
  },
  {
   "cell_type": "code",
   "execution_count": 34,
   "metadata": {},
   "outputs": [
    {
     "data": {
      "text/plain": [
       "0.5173745173745173"
      ]
     },
     "execution_count": 34,
     "metadata": {},
     "output_type": "execute_result"
    }
   ],
   "source": [
    "lda=LinearDiscriminantAnalysis()\n",
    "lda.fit(X_train,y_train)\n",
    "pred=lda.predict(X_val)\n",
    "accuracy_score(pred,y_val)"
   ]
  },
  {
   "cell_type": "code",
   "execution_count": 35,
   "metadata": {},
   "outputs": [
    {
     "name": "stdout",
     "output_type": "stream",
     "text": [
      "              precision    recall  f1-score   support\n",
      "\n",
      "          -1       0.67      0.51      0.58       676\n",
      "           1       0.37      0.53      0.43       360\n",
      "\n",
      "    accuracy                           0.52      1036\n",
      "   macro avg       0.52      0.52      0.51      1036\n",
      "weighted avg       0.57      0.52      0.53      1036\n",
      "\n"
     ]
    }
   ],
   "source": [
    "print(classification_report(pred,y_val))"
   ]
  },
  {
   "cell_type": "markdown",
   "metadata": {},
   "source": [
    "\n",
    "\n",
    "\n"
   ]
  },
  {
   "cell_type": "markdown",
   "metadata": {},
   "source": [
    "\n",
    "\n",
    "\n"
   ]
  },
  {
   "cell_type": "markdown",
   "metadata": {},
   "source": [
    "\n",
    "\n"
   ]
  },
  {
   "cell_type": "markdown",
   "metadata": {},
   "source": [
    "#  III) Testing the EMH"
   ]
  },
  {
   "cell_type": "markdown",
   "metadata": {},
   "source": [
    "### Normality (using Jarque-Bera)"
   ]
  },
  {
   "cell_type": "code",
   "execution_count": 36,
   "metadata": {},
   "outputs": [],
   "source": [
    "from statsmodels.stats.stattools import jarque_bera\n",
    "\n",
    "l=[jarque_bera(stock[\"next_return\"]) for stock in DOW]\n",
    "normality=pd.DataFrame(l,index=stock_names,columns=[\"JB\",\"p_value\",\"skewness\",\"kurtosis\"]).transpose()"
   ]
  },
  {
   "cell_type": "code",
   "execution_count": 37,
   "metadata": {},
   "outputs": [
    {
     "data": {
      "text/html": [
       "<div>\n",
       "<style scoped>\n",
       "    .dataframe tbody tr th:only-of-type {\n",
       "        vertical-align: middle;\n",
       "    }\n",
       "\n",
       "    .dataframe tbody tr th {\n",
       "        vertical-align: top;\n",
       "    }\n",
       "\n",
       "    .dataframe thead th {\n",
       "        text-align: right;\n",
       "    }\n",
       "</style>\n",
       "<table border=\"1\" class=\"dataframe\">\n",
       "  <thead>\n",
       "    <tr style=\"text-align: right;\">\n",
       "      <th></th>\n",
       "      <th>AAPL</th>\n",
       "      <th>AMGN</th>\n",
       "      <th>AXP</th>\n",
       "      <th>BA</th>\n",
       "      <th>CAT</th>\n",
       "      <th>CRM</th>\n",
       "      <th>CSCO</th>\n",
       "      <th>CVX</th>\n",
       "      <th>DIS</th>\n",
       "      <th>DOW</th>\n",
       "      <th>...</th>\n",
       "      <th>MRK</th>\n",
       "      <th>MSFT</th>\n",
       "      <th>NKE</th>\n",
       "      <th>PG</th>\n",
       "      <th>TRV</th>\n",
       "      <th>UNH</th>\n",
       "      <th>V</th>\n",
       "      <th>VZ</th>\n",
       "      <th>WBA</th>\n",
       "      <th>WMT</th>\n",
       "    </tr>\n",
       "  </thead>\n",
       "  <tbody>\n",
       "    <tr>\n",
       "      <th>JB</th>\n",
       "      <td>3.055620e+06</td>\n",
       "      <td>7420.590930</td>\n",
       "      <td>28938.275269</td>\n",
       "      <td>71100.056936</td>\n",
       "      <td>5077.269883</td>\n",
       "      <td>9397.591494</td>\n",
       "      <td>19052.752577</td>\n",
       "      <td>117215.321569</td>\n",
       "      <td>21377.727154</td>\n",
       "      <td>1794.974330</td>\n",
       "      <td>...</td>\n",
       "      <td>184036.650616</td>\n",
       "      <td>22720.834594</td>\n",
       "      <td>23114.629699</td>\n",
       "      <td>21134.605358</td>\n",
       "      <td>91681.072407</td>\n",
       "      <td>89682.806282</td>\n",
       "      <td>10816.022199</td>\n",
       "      <td>9067.667271</td>\n",
       "      <td>14486.398620</td>\n",
       "      <td>12693.334543</td>\n",
       "    </tr>\n",
       "    <tr>\n",
       "      <th>p_value</th>\n",
       "      <td>0.000000e+00</td>\n",
       "      <td>0.000000</td>\n",
       "      <td>0.000000</td>\n",
       "      <td>0.000000</td>\n",
       "      <td>0.000000</td>\n",
       "      <td>0.000000</td>\n",
       "      <td>0.000000</td>\n",
       "      <td>0.000000</td>\n",
       "      <td>0.000000</td>\n",
       "      <td>0.000000</td>\n",
       "      <td>...</td>\n",
       "      <td>0.000000</td>\n",
       "      <td>0.000000</td>\n",
       "      <td>0.000000</td>\n",
       "      <td>0.000000</td>\n",
       "      <td>0.000000</td>\n",
       "      <td>0.000000</td>\n",
       "      <td>0.000000</td>\n",
       "      <td>0.000000</td>\n",
       "      <td>0.000000</td>\n",
       "      <td>0.000000</td>\n",
       "    </tr>\n",
       "    <tr>\n",
       "      <th>skewness</th>\n",
       "      <td>4.327240e+00</td>\n",
       "      <td>-0.249259</td>\n",
       "      <td>-0.024566</td>\n",
       "      <td>0.560530</td>\n",
       "      <td>0.199767</td>\n",
       "      <td>-0.343909</td>\n",
       "      <td>-0.078187</td>\n",
       "      <td>0.589185</td>\n",
       "      <td>0.197047</td>\n",
       "      <td>1.140002</td>\n",
       "      <td>...</td>\n",
       "      <td>1.457098</td>\n",
       "      <td>0.170416</td>\n",
       "      <td>0.183550</td>\n",
       "      <td>0.128678</td>\n",
       "      <td>0.316614</td>\n",
       "      <td>-0.100524</td>\n",
       "      <td>0.122142</td>\n",
       "      <td>-0.051283</td>\n",
       "      <td>0.354413</td>\n",
       "      <td>-0.236382</td>\n",
       "    </tr>\n",
       "    <tr>\n",
       "      <th>kurtosis</th>\n",
       "      <td>1.216693e+02</td>\n",
       "      <td>8.842311</td>\n",
       "      <td>14.579056</td>\n",
       "      <td>21.115307</td>\n",
       "      <td>7.833674</td>\n",
       "      <td>10.423379</td>\n",
       "      <td>12.394192</td>\n",
       "      <td>26.274321</td>\n",
       "      <td>12.944449</td>\n",
       "      <td>13.890038</td>\n",
       "      <td>...</td>\n",
       "      <td>32.054895</td>\n",
       "      <td>13.254468</td>\n",
       "      <td>13.342149</td>\n",
       "      <td>12.892154</td>\n",
       "      <td>23.600393</td>\n",
       "      <td>23.383287</td>\n",
       "      <td>12.122531</td>\n",
       "      <td>9.480883</td>\n",
       "      <td>11.161863</td>\n",
       "      <td>10.654235</td>\n",
       "    </tr>\n",
       "  </tbody>\n",
       "</table>\n",
       "<p>4 rows × 30 columns</p>\n",
       "</div>"
      ],
      "text/plain": [
       "                  AAPL         AMGN           AXP            BA          CAT  \\\n",
       "JB        3.055620e+06  7420.590930  28938.275269  71100.056936  5077.269883   \n",
       "p_value   0.000000e+00     0.000000      0.000000      0.000000     0.000000   \n",
       "skewness  4.327240e+00    -0.249259     -0.024566      0.560530     0.199767   \n",
       "kurtosis  1.216693e+02     8.842311     14.579056     21.115307     7.833674   \n",
       "\n",
       "                  CRM          CSCO            CVX           DIS          DOW  \\\n",
       "JB        9397.591494  19052.752577  117215.321569  21377.727154  1794.974330   \n",
       "p_value      0.000000      0.000000       0.000000      0.000000     0.000000   \n",
       "skewness    -0.343909     -0.078187       0.589185      0.197047     1.140002   \n",
       "kurtosis    10.423379     12.394192      26.274321     12.944449    13.890038   \n",
       "\n",
       "          ...            MRK          MSFT           NKE            PG  \\\n",
       "JB        ...  184036.650616  22720.834594  23114.629699  21134.605358   \n",
       "p_value   ...       0.000000      0.000000      0.000000      0.000000   \n",
       "skewness  ...       1.457098      0.170416      0.183550      0.128678   \n",
       "kurtosis  ...      32.054895     13.254468     13.342149     12.892154   \n",
       "\n",
       "                   TRV           UNH             V           VZ           WBA  \\\n",
       "JB        91681.072407  89682.806282  10816.022199  9067.667271  14486.398620   \n",
       "p_value       0.000000      0.000000      0.000000     0.000000      0.000000   \n",
       "skewness      0.316614     -0.100524      0.122142    -0.051283      0.354413   \n",
       "kurtosis     23.600393     23.383287     12.122531     9.480883     11.161863   \n",
       "\n",
       "                   WMT  \n",
       "JB        12693.334543  \n",
       "p_value       0.000000  \n",
       "skewness     -0.236382  \n",
       "kurtosis     10.654235  \n",
       "\n",
       "[4 rows x 30 columns]"
      ]
     },
     "execution_count": 37,
     "metadata": {},
     "output_type": "execute_result"
    }
   ],
   "source": [
    "normality"
   ]
  },
  {
   "cell_type": "markdown",
   "metadata": {},
   "source": [
    "#### The returns do not follow a normal distribution"
   ]
  },
  {
   "cell_type": "markdown",
   "metadata": {},
   "source": [
    "### Autocorrelation test (Ljung-Box Test)"
   ]
  },
  {
   "cell_type": "code",
   "execution_count": 38,
   "metadata": {},
   "outputs": [
    {
     "name": "stderr",
     "output_type": "stream",
     "text": [
      "C:\\Users\\ALEX\\Anaconda3\\lib\\site-packages\\statsmodels\\tsa\\stattools.py:568: FutureWarning: fft=True will become the default in a future version of statsmodels. To suppress this warning, explicitly set fft=False.\n",
      "  warnings.warn(\n"
     ]
    },
    {
     "data": {
      "text/plain": [
       "array([3.37981423e-03, 1.35177876e-02, 2.93843712e-02, 9.82097747e-04,\n",
       "       7.64214722e-04, 8.98316440e-04, 2.93165901e-04, 2.51584293e-04,\n",
       "       4.91921529e-04, 1.67068283e-04, 3.12497615e-04, 3.60036590e-05,\n",
       "       1.80034044e-05, 7.04329107e-06, 5.00745109e-06, 7.53583197e-06,\n",
       "       2.07610376e-07, 4.16462167e-07, 7.69836596e-07, 1.46141411e-06,\n",
       "       9.00839059e-07, 8.46224930e-07, 4.55126854e-07, 5.48277381e-07,\n",
       "       9.77220807e-07, 1.26077542e-06, 2.11000767e-06, 2.78901488e-06,\n",
       "       4.71616483e-06, 4.68081789e-06, 7.46189425e-06, 1.17757024e-05,\n",
       "       1.46629637e-05, 1.85165863e-05, 2.90206587e-05, 4.13559744e-05,\n",
       "       4.70248315e-05, 7.11609800e-05, 4.74280721e-05, 6.15232838e-05])"
      ]
     },
     "execution_count": 38,
     "metadata": {},
     "output_type": "execute_result"
    }
   ],
   "source": [
    "from statsmodels.tsa.stattools import acf\n",
    "l=[acf(stock[\"next_return\"],qstat=True)[2] for stock in DOW]\n",
    "l[0]"
   ]
  },
  {
   "cell_type": "markdown",
   "metadata": {},
   "source": [
    "#### For all the DOW components, the p_values for the Ljung-Box statistical test are significantly small. Therefore we reject the test's null hypothesis (which states that the data is independently distributed).\n",
    "#### => The data is autocorrelated"
   ]
  },
  {
   "cell_type": "markdown",
   "metadata": {},
   "source": [
    "### DOW index"
   ]
  },
  {
   "cell_type": "code",
   "execution_count": 39,
   "metadata": {},
   "outputs": [
    {
     "data": {
      "text/plain": [
       "(array([39770.12823739]),\n",
       " array([0.]),\n",
       " array([0.38316438]),\n",
       " array([16.81190102]))"
      ]
     },
     "execution_count": 39,
     "metadata": {},
     "output_type": "execute_result"
    }
   ],
   "source": [
    "ret_dji=returns(DJI,-1)[0]\n",
    "ret_dji=pd.DataFrame(ret_dji).dropna()\n",
    "jarque_bera(ret_dji)"
   ]
  },
  {
   "cell_type": "markdown",
   "metadata": {},
   "source": [
    "#### The DOW does not follow a normal distribution"
   ]
  },
  {
   "cell_type": "code",
   "execution_count": 41,
   "metadata": {},
   "outputs": [
    {
     "name": "stderr",
     "output_type": "stream",
     "text": [
      "C:\\Users\\ALEX\\Anaconda3\\lib\\site-packages\\statsmodels\\tsa\\stattools.py:568: FutureWarning: fft=True will become the default in a future version of statsmodels. To suppress this warning, explicitly set fft=False.\n",
      "  warnings.warn(\n"
     ]
    },
    {
     "data": {
      "text/plain": [
       "array([1.67432748e-17, 5.73034520e-17, 9.32405183e-17, 6.40863749e-17,\n",
       "       1.75575948e-16, 8.07740698e-18, 6.93690703e-20, 6.54773001e-20,\n",
       "       2.71756486e-21, 9.06422490e-21, 2.12656786e-20, 1.09673168e-21,\n",
       "       3.95219979e-22, 9.21974956e-22, 4.15099102e-26, 7.22370315e-32,\n",
       "       1.24161310e-31, 2.34444444e-33, 8.02105313e-33, 2.63271720e-32,\n",
       "       5.04757292e-32, 1.24496379e-31, 3.40290976e-31, 9.72719367e-31,\n",
       "       2.15959791e-30, 3.59839879e-30, 1.54537338e-30, 3.48658100e-30,\n",
       "       5.95253649e-30, 1.26890163e-29, 1.76059809e-29, 4.16480330e-29,\n",
       "       9.48142683e-29, 3.16601622e-31, 7.81968799e-31, 6.01201253e-31,\n",
       "       1.55133744e-30, 3.66334266e-30, 3.50756609e-30, 8.44597711e-30])"
      ]
     },
     "execution_count": 41,
     "metadata": {},
     "output_type": "execute_result"
    }
   ],
   "source": [
    "acf(ret_dji,qstat=True)[2]"
   ]
  },
  {
   "cell_type": "markdown",
   "metadata": {},
   "source": [
    "#### For the DOW index, the p_values for the Ljung-Box statistical test are significantly small. Therefore we reject the test's null hypothesis.\n",
    "#### => The DOW is autocorrelated"
   ]
  },
  {
   "cell_type": "markdown",
   "metadata": {},
   "source": [
    "### Conclusion (Market Efficiency):\n",
    "#### The DOW components as well as all the DOW itself are autocorrelated. This means that the market is not efficient."
   ]
  },
  {
   "cell_type": "markdown",
   "metadata": {},
   "source": [
    "\n",
    "\n",
    "\n",
    "\n",
    "\n",
    "\n",
    "\n"
   ]
  },
  {
   "cell_type": "markdown",
   "metadata": {},
   "source": [
    "\n",
    "\n",
    "\n",
    "\n"
   ]
  },
  {
   "cell_type": "markdown",
   "metadata": {},
   "source": [
    "\n",
    "\n",
    "\n",
    "\n"
   ]
  },
  {
   "cell_type": "markdown",
   "metadata": {},
   "source": [
    "# IV) High frequency stock direction prediction"
   ]
  },
  {
   "cell_type": "code",
   "execution_count": 54,
   "metadata": {},
   "outputs": [],
   "source": [
    "tick_data = pd.read_csv('IVE_tickbidask.txt', sep=\",\", header=None)\n",
    "tick_data.columns = [\"Date\",\"Time\",\"Price\",\"Bid\",\"Ask\",\"Size\"]"
   ]
  },
  {
   "cell_type": "code",
   "execution_count": 55,
   "metadata": {},
   "outputs": [],
   "source": [
    "tick_data[\"Datetime\"]=tick_data[\"Date\"]+\" \"+tick_data[\"Time\"]\n",
    "tick_data.drop([\"Date\",\"Time\"],axis=1,inplace=True)\n",
    "tick_data.Datetime=pd.to_datetime(tick_data.Datetime,  format='%m/%d/%Y %H:%M:%S', errors='ignore')\n",
    "#tick_data.Datetime=pd.to_datetime(tick_data.Datetime).dt.strftime('%d/%m/%Y %H:%M:%S')\n",
    "tick_data.set_index(\"Datetime\",inplace=True)"
   ]
  },
  {
   "cell_type": "markdown",
   "metadata": {},
   "source": [
    "### 2) Tick rule"
   ]
  },
  {
   "cell_type": "code",
   "execution_count": 56,
   "metadata": {},
   "outputs": [],
   "source": [
    "def tick_direction(df):\n",
    "    tick_dir=[]\n",
    "    for i in range(1,df.shape[0]):\n",
    "        pi=df[\"Price\"].iloc[i]\n",
    "        j=i-1\n",
    "        pj=df[\"Price\"].iloc[j]\n",
    "        \n",
    "        while pi==pj:\n",
    "            j-=1\n",
    "            pj=df[\"Price\"].iloc[j]\n",
    "        \n",
    "        if pi>pj:\n",
    "            tick=\"Buy\"\n",
    "        if pi<pj:\n",
    "            tick=\"Sell\"\n",
    "        \n",
    "        tick_dir.append(tick)\n",
    "    \n",
    "    return tick_dir\n",
    "\n"
   ]
  },
  {
   "cell_type": "code",
   "execution_count": 57,
   "metadata": {},
   "outputs": [],
   "source": [
    "tick_dir=tick_direction(tick_data)\n",
    "tick_dir.insert(0,np.nan)\n",
    "\n",
    "tick_data[\"TickDirection\"]= tick_dir"
   ]
  },
  {
   "cell_type": "markdown",
   "metadata": {},
   "source": [
    "### 3) Lee Ready algorithm"
   ]
  },
  {
   "cell_type": "code",
   "execution_count": 58,
   "metadata": {},
   "outputs": [],
   "source": [
    "def sign_to_trade(x):\n",
    "    if x[0]==1.0:\n",
    "        return \"Buy\"\n",
    "    elif x[0]==-1.0:\n",
    "        return \"Sell\"\n",
    "\n",
    "\n",
    "mid=0.5*tick_data[\"Bid\"]+0.5*tick_data[\"Ask\"]\n",
    "\n",
    "diff=(tick_data[\"Price\"]-mid)\n",
    "diff=pd.DataFrame(diff/abs(diff),index=diff.index,columns=[\"sign\"])\n",
    "tick_data[\"LRDirection\"]=diff.apply(lambda x: sign_to_trade(x),axis=1)\n"
   ]
  },
  {
   "cell_type": "code",
   "execution_count": 59,
   "metadata": {},
   "outputs": [],
   "source": [
    "tick_data.dropna(inplace=True)"
   ]
  },
  {
   "cell_type": "markdown",
   "metadata": {},
   "source": [
    "### 4) One-minute data summary"
   ]
  },
  {
   "cell_type": "code",
   "execution_count": 60,
   "metadata": {
    "scrolled": true
   },
   "outputs": [
    {
     "data": {
      "text/html": [
       "<div>\n",
       "<style scoped>\n",
       "    .dataframe tbody tr th:only-of-type {\n",
       "        vertical-align: middle;\n",
       "    }\n",
       "\n",
       "    .dataframe tbody tr th {\n",
       "        vertical-align: top;\n",
       "    }\n",
       "\n",
       "    .dataframe thead th {\n",
       "        text-align: right;\n",
       "    }\n",
       "</style>\n",
       "<table border=\"1\" class=\"dataframe\">\n",
       "  <thead>\n",
       "    <tr style=\"text-align: right;\">\n",
       "      <th></th>\n",
       "      <th>Price</th>\n",
       "      <th>Bid</th>\n",
       "      <th>Ask</th>\n",
       "      <th>Size</th>\n",
       "      <th>TickDirection</th>\n",
       "      <th>LRDirection</th>\n",
       "    </tr>\n",
       "    <tr>\n",
       "      <th>Datetime</th>\n",
       "      <th></th>\n",
       "      <th></th>\n",
       "      <th></th>\n",
       "      <th></th>\n",
       "      <th></th>\n",
       "      <th></th>\n",
       "    </tr>\n",
       "  </thead>\n",
       "  <tbody>\n",
       "    <tr>\n",
       "      <th>2009-09-28 09:30:00</th>\n",
       "      <td>50.71</td>\n",
       "      <td>50.70</td>\n",
       "      <td>50.79</td>\n",
       "      <td>638.0</td>\n",
       "      <td>Sell</td>\n",
       "      <td>Sell</td>\n",
       "    </tr>\n",
       "    <tr>\n",
       "      <th>2009-09-28 09:31:00</th>\n",
       "      <td>50.75</td>\n",
       "      <td>50.75</td>\n",
       "      <td>50.76</td>\n",
       "      <td>100.0</td>\n",
       "      <td>Buy</td>\n",
       "      <td>Sell</td>\n",
       "    </tr>\n",
       "    <tr>\n",
       "      <th>2009-09-28 09:32:00</th>\n",
       "      <td>50.78</td>\n",
       "      <td>50.76</td>\n",
       "      <td>50.78</td>\n",
       "      <td>300.0</td>\n",
       "      <td>Buy</td>\n",
       "      <td>Buy</td>\n",
       "    </tr>\n",
       "    <tr>\n",
       "      <th>2009-09-28 09:33:00</th>\n",
       "      <td>50.81</td>\n",
       "      <td>50.80</td>\n",
       "      <td>50.81</td>\n",
       "      <td>500.0</td>\n",
       "      <td>Sell</td>\n",
       "      <td>Buy</td>\n",
       "    </tr>\n",
       "    <tr>\n",
       "      <th>2009-09-28 09:34:00</th>\n",
       "      <td>50.82</td>\n",
       "      <td>50.80</td>\n",
       "      <td>50.82</td>\n",
       "      <td>100.0</td>\n",
       "      <td>Buy</td>\n",
       "      <td>Buy</td>\n",
       "    </tr>\n",
       "  </tbody>\n",
       "</table>\n",
       "</div>"
      ],
      "text/plain": [
       "                     Price    Bid    Ask   Size TickDirection LRDirection\n",
       "Datetime                                                                 \n",
       "2009-09-28 09:30:00  50.71  50.70  50.79  638.0          Sell        Sell\n",
       "2009-09-28 09:31:00  50.75  50.75  50.76  100.0           Buy        Sell\n",
       "2009-09-28 09:32:00  50.78  50.76  50.78  300.0           Buy         Buy\n",
       "2009-09-28 09:33:00  50.81  50.80  50.81  500.0          Sell         Buy\n",
       "2009-09-28 09:34:00  50.82  50.80  50.82  100.0           Buy         Buy"
      ]
     },
     "execution_count": 60,
     "metadata": {},
     "output_type": "execute_result"
    }
   ],
   "source": [
    "data_summary=tick_data.resample(\"T\").first()\n",
    "\n",
    "data_summary.head()"
   ]
  },
  {
   "cell_type": "code",
   "execution_count": 61,
   "metadata": {},
   "outputs": [],
   "source": [
    "data_summary.drop(data_summary.index[:5],inplace=True)\n",
    "data_summary.drop(data_summary.index[data_summary.shape[0]-5:],inplace=True)"
   ]
  },
  {
   "cell_type": "markdown",
   "metadata": {},
   "source": [
    "#### VWAP and quantities"
   ]
  },
  {
   "cell_type": "code",
   "execution_count": 62,
   "metadata": {},
   "outputs": [],
   "source": [
    "qty=tick_data.resample(\"T\").sum()[\"Size\"]\n",
    "qty_x_price=tick_data[\"Price\"]*tick_data[\"Size\"]\n",
    "qty_x_price=qty_x_price.resample(\"T\").sum()\n",
    "\n",
    "VWAP=qty_x_price/qty\n",
    "\n",
    "data_summary[\"VWAP\"]=VWAP"
   ]
  },
  {
   "cell_type": "code",
   "execution_count": 63,
   "metadata": {},
   "outputs": [],
   "source": [
    "#Quantity over 1 min\n",
    "quantity=tick_data.resample(\"T\").sum()\n",
    "\n",
    "#Buy share TickDirection over 1 min\n",
    "buffer=pd.DataFrame(tick_data[\"TickDirection\"])\n",
    "buffer=buffer[buffer['TickDirection']==\"Buy\"]\n",
    "total_buy_Tick=buffer.resample(\"T\").count()\n",
    "data_summary[\"total_buy_TD\"]=total_buy_Tick\n",
    "\n",
    "#Sell share TickDirection over 1 min\n",
    "buffer=pd.DataFrame(tick_data[\"TickDirection\"])\n",
    "buffer=buffer[buffer['TickDirection']==\"Sell\"]\n",
    "total_sell_Tick=buffer.resample(\"T\").count()\n",
    "data_summary[\"total_sell_TD\"]=total_sell_Tick\n",
    "\n",
    "#Buy share LDR over 1 min\n",
    "buffer=pd.DataFrame(tick_data[\"LRDirection\"])\n",
    "buffer=buffer[buffer['LRDirection']==\"Buy\"]\n",
    "total_buy_LRD=buffer.resample(\"T\").count()\n",
    "data_summary[\"total_buy_LRD\"]=total_buy_LRD\n",
    "\n",
    "#Sell share LDR over 1 min\n",
    "buffer=pd.DataFrame(tick_data[\"LRDirection\"])\n",
    "buffer=buffer[buffer['LRDirection']==\"Sell\"]\n",
    "total_sell_LRD=buffer.resample(\"T\").count()\n",
    "data_summary[\"total_sell_LRD\"]=total_sell_LRD\n"
   ]
  },
  {
   "cell_type": "markdown",
   "metadata": {},
   "source": [
    "### 5) Computing features and applying models"
   ]
  },
  {
   "cell_type": "code",
   "execution_count": 64,
   "metadata": {},
   "outputs": [],
   "source": [
    "#data_summary.dropna(inplace=True)\n",
    "data_summary[\"5min_ret\"]=10000*np.log(data_summary[\"Price\"]/data_summary.shift(-5)[\"Price\"])\n",
    "#data_summary.dropna(inplace=True)\n",
    "data_summary[\"5min_ret_sign\"]=(data_summary[\"5min_ret\"]/abs(data_summary[\"5min_ret\"]))"
   ]
  },
  {
   "cell_type": "code",
   "execution_count": 65,
   "metadata": {},
   "outputs": [],
   "source": [
    "def returns2(df,n):\n",
    "    ch=\"Returns_\"+str(n)\n",
    "    d=10000*np.log(df[\"Price\"]/df.shift(n)[\"Price\"])\n",
    "    return d,ch\n",
    "for n in [5,15,20,30]:\n",
    "    d,ch=returns2(data_summary,n)\n",
    "    data_summary[ch]=d\n",
    "#data_summary.dropna(inplace=True)"
   ]
  },
  {
   "cell_type": "code",
   "execution_count": 66,
   "metadata": {},
   "outputs": [],
   "source": [
    "d,ch=returns2(data_summary,1)\n",
    "data_summary[ch]=d\n",
    "\n",
    "for n in [5,15,20,30]:\n",
    "    ch=\"Returns_\"+str(n)\n",
    "    chstd=\"Std_ret_\"+str(n)\n",
    "    freq=str(n)+\"T\"\n",
    "    m=data_summary[\"Returns_1\"].resample(freq).mean().tolist()\n",
    "    m=[q for q in m for i in range(n)]\n",
    "    m=m[:len(data_summary)]\n",
    "    std=(data_summary[\"Returns_1\"]-m)**2\n",
    "    std=std.resample(freq).mean()\n",
    "    #data_summary[chstd]=np.sqrt(std)\n"
   ]
  },
  {
   "cell_type": "code",
   "execution_count": 67,
   "metadata": {},
   "outputs": [],
   "source": [
    "data_summary[\"TickImbalance\"]=(data_summary[\"total_buy_TD\"]-data_summary[\"total_sell_TD\"])/(data_summary[\"total_buy_TD\"]+data_summary[\"total_sell_TD\"])\n",
    "\n",
    "data_summary[\"LRImbalance\"]=(data_summary[\"total_buy_LRD\"]-data_summary[\"total_sell_LRD\"])/(data_summary[\"total_buy_LRD\"]+data_summary[\"total_sell_LRD\"])"
   ]
  },
  {
   "cell_type": "code",
   "execution_count": 68,
   "metadata": {},
   "outputs": [],
   "source": [
    "under_sample=data_summary.resample(\"5t\").first()"
   ]
  },
  {
   "cell_type": "code",
   "execution_count": 69,
   "metadata": {},
   "outputs": [],
   "source": [
    "under_sample.dropna(inplace=True)"
   ]
  },
  {
   "cell_type": "code",
   "execution_count": 70,
   "metadata": {},
   "outputs": [
    {
     "data": {
      "text/html": [
       "<div>\n",
       "<style scoped>\n",
       "    .dataframe tbody tr th:only-of-type {\n",
       "        vertical-align: middle;\n",
       "    }\n",
       "\n",
       "    .dataframe tbody tr th {\n",
       "        vertical-align: top;\n",
       "    }\n",
       "\n",
       "    .dataframe thead th {\n",
       "        text-align: right;\n",
       "    }\n",
       "</style>\n",
       "<table border=\"1\" class=\"dataframe\">\n",
       "  <thead>\n",
       "    <tr style=\"text-align: right;\">\n",
       "      <th></th>\n",
       "      <th>Price</th>\n",
       "      <th>Bid</th>\n",
       "      <th>Ask</th>\n",
       "      <th>Size</th>\n",
       "      <th>TickDirection</th>\n",
       "      <th>LRDirection</th>\n",
       "      <th>VWAP</th>\n",
       "      <th>total_buy_TD</th>\n",
       "      <th>total_sell_TD</th>\n",
       "      <th>total_buy_LRD</th>\n",
       "      <th>total_sell_LRD</th>\n",
       "      <th>5min_ret</th>\n",
       "      <th>5min_ret_sign</th>\n",
       "      <th>Returns_5</th>\n",
       "      <th>Returns_15</th>\n",
       "      <th>Returns_20</th>\n",
       "      <th>Returns_30</th>\n",
       "      <th>Returns_1</th>\n",
       "      <th>TickImbalance</th>\n",
       "      <th>LRImbalance</th>\n",
       "    </tr>\n",
       "    <tr>\n",
       "      <th>Datetime</th>\n",
       "      <th></th>\n",
       "      <th></th>\n",
       "      <th></th>\n",
       "      <th></th>\n",
       "      <th></th>\n",
       "      <th></th>\n",
       "      <th></th>\n",
       "      <th></th>\n",
       "      <th></th>\n",
       "      <th></th>\n",
       "      <th></th>\n",
       "      <th></th>\n",
       "      <th></th>\n",
       "      <th></th>\n",
       "      <th></th>\n",
       "      <th></th>\n",
       "      <th></th>\n",
       "      <th></th>\n",
       "      <th></th>\n",
       "      <th></th>\n",
       "    </tr>\n",
       "  </thead>\n",
       "  <tbody>\n",
       "    <tr>\n",
       "      <th>2009-09-28 10:05:00</th>\n",
       "      <td>51.210</td>\n",
       "      <td>51.21</td>\n",
       "      <td>51.23</td>\n",
       "      <td>100.0</td>\n",
       "      <td>Sell</td>\n",
       "      <td>Sell</td>\n",
       "      <td>51.210000</td>\n",
       "      <td>0.0</td>\n",
       "      <td>4</td>\n",
       "      <td>1</td>\n",
       "      <td>3.0</td>\n",
       "      <td>-13.659871</td>\n",
       "      <td>-1.0</td>\n",
       "      <td>11.723331</td>\n",
       "      <td>21.738119</td>\n",
       "      <td>41.091928</td>\n",
       "      <td>79.550550</td>\n",
       "      <td>-9.758955</td>\n",
       "      <td>-1.000000</td>\n",
       "      <td>-0.500000</td>\n",
       "    </tr>\n",
       "    <tr>\n",
       "      <th>2009-09-28 10:10:00</th>\n",
       "      <td>51.280</td>\n",
       "      <td>51.27</td>\n",
       "      <td>51.28</td>\n",
       "      <td>100.0</td>\n",
       "      <td>Buy</td>\n",
       "      <td>Buy</td>\n",
       "      <td>51.289841</td>\n",
       "      <td>9.0</td>\n",
       "      <td>0</td>\n",
       "      <td>9</td>\n",
       "      <td>0.0</td>\n",
       "      <td>5.851946</td>\n",
       "      <td>1.0</td>\n",
       "      <td>13.659871</td>\n",
       "      <td>27.338427</td>\n",
       "      <td>35.397990</td>\n",
       "      <td>92.076270</td>\n",
       "      <td>1.950268</td>\n",
       "      <td>1.000000</td>\n",
       "      <td>1.000000</td>\n",
       "    </tr>\n",
       "    <tr>\n",
       "      <th>2009-09-28 10:15:00</th>\n",
       "      <td>51.250</td>\n",
       "      <td>51.24</td>\n",
       "      <td>51.25</td>\n",
       "      <td>100.0</td>\n",
       "      <td>Buy</td>\n",
       "      <td>Buy</td>\n",
       "      <td>51.250000</td>\n",
       "      <td>2.0</td>\n",
       "      <td>0</td>\n",
       "      <td>2</td>\n",
       "      <td>0.0</td>\n",
       "      <td>8.198482</td>\n",
       "      <td>1.0</td>\n",
       "      <td>-5.851946</td>\n",
       "      <td>19.531256</td>\n",
       "      <td>21.486482</td>\n",
       "      <td>48.899853</td>\n",
       "      <td>-1.951029</td>\n",
       "      <td>1.000000</td>\n",
       "      <td>1.000000</td>\n",
       "    </tr>\n",
       "    <tr>\n",
       "      <th>2009-09-28 10:20:00</th>\n",
       "      <td>51.208</td>\n",
       "      <td>51.20</td>\n",
       "      <td>51.21</td>\n",
       "      <td>200.0</td>\n",
       "      <td>Sell</td>\n",
       "      <td>Buy</td>\n",
       "      <td>51.224667</td>\n",
       "      <td>14.0</td>\n",
       "      <td>7</td>\n",
       "      <td>17</td>\n",
       "      <td>4.0</td>\n",
       "      <td>-8.198482</td>\n",
       "      <td>-1.0</td>\n",
       "      <td>-8.198482</td>\n",
       "      <td>-0.390556</td>\n",
       "      <td>11.332774</td>\n",
       "      <td>21.347563</td>\n",
       "      <td>-2.343109</td>\n",
       "      <td>0.333333</td>\n",
       "      <td>0.619048</td>\n",
       "    </tr>\n",
       "    <tr>\n",
       "      <th>2009-09-28 10:25:00</th>\n",
       "      <td>51.250</td>\n",
       "      <td>51.23</td>\n",
       "      <td>51.25</td>\n",
       "      <td>100.0</td>\n",
       "      <td>Buy</td>\n",
       "      <td>Buy</td>\n",
       "      <td>51.250000</td>\n",
       "      <td>4.0</td>\n",
       "      <td>0</td>\n",
       "      <td>4</td>\n",
       "      <td>0.0</td>\n",
       "      <td>-1.951029</td>\n",
       "      <td>-1.0</td>\n",
       "      <td>8.198482</td>\n",
       "      <td>-5.851946</td>\n",
       "      <td>7.807925</td>\n",
       "      <td>21.486482</td>\n",
       "      <td>-1.951029</td>\n",
       "      <td>1.000000</td>\n",
       "      <td>1.000000</td>\n",
       "    </tr>\n",
       "  </tbody>\n",
       "</table>\n",
       "</div>"
      ],
      "text/plain": [
       "                      Price    Bid    Ask   Size TickDirection LRDirection  \\\n",
       "Datetime                                                                     \n",
       "2009-09-28 10:05:00  51.210  51.21  51.23  100.0          Sell        Sell   \n",
       "2009-09-28 10:10:00  51.280  51.27  51.28  100.0           Buy         Buy   \n",
       "2009-09-28 10:15:00  51.250  51.24  51.25  100.0           Buy         Buy   \n",
       "2009-09-28 10:20:00  51.208  51.20  51.21  200.0          Sell         Buy   \n",
       "2009-09-28 10:25:00  51.250  51.23  51.25  100.0           Buy         Buy   \n",
       "\n",
       "                          VWAP  total_buy_TD  total_sell_TD  total_buy_LRD  \\\n",
       "Datetime                                                                     \n",
       "2009-09-28 10:05:00  51.210000           0.0              4              1   \n",
       "2009-09-28 10:10:00  51.289841           9.0              0              9   \n",
       "2009-09-28 10:15:00  51.250000           2.0              0              2   \n",
       "2009-09-28 10:20:00  51.224667          14.0              7             17   \n",
       "2009-09-28 10:25:00  51.250000           4.0              0              4   \n",
       "\n",
       "                     total_sell_LRD   5min_ret  5min_ret_sign  Returns_5  \\\n",
       "Datetime                                                                   \n",
       "2009-09-28 10:05:00             3.0 -13.659871           -1.0  11.723331   \n",
       "2009-09-28 10:10:00             0.0   5.851946            1.0  13.659871   \n",
       "2009-09-28 10:15:00             0.0   8.198482            1.0  -5.851946   \n",
       "2009-09-28 10:20:00             4.0  -8.198482           -1.0  -8.198482   \n",
       "2009-09-28 10:25:00             0.0  -1.951029           -1.0   8.198482   \n",
       "\n",
       "                     Returns_15  Returns_20  Returns_30  Returns_1  \\\n",
       "Datetime                                                             \n",
       "2009-09-28 10:05:00   21.738119   41.091928   79.550550  -9.758955   \n",
       "2009-09-28 10:10:00   27.338427   35.397990   92.076270   1.950268   \n",
       "2009-09-28 10:15:00   19.531256   21.486482   48.899853  -1.951029   \n",
       "2009-09-28 10:20:00   -0.390556   11.332774   21.347563  -2.343109   \n",
       "2009-09-28 10:25:00   -5.851946    7.807925   21.486482  -1.951029   \n",
       "\n",
       "                     TickImbalance  LRImbalance  \n",
       "Datetime                                         \n",
       "2009-09-28 10:05:00      -1.000000    -0.500000  \n",
       "2009-09-28 10:10:00       1.000000     1.000000  \n",
       "2009-09-28 10:15:00       1.000000     1.000000  \n",
       "2009-09-28 10:20:00       0.333333     0.619048  \n",
       "2009-09-28 10:25:00       1.000000     1.000000  "
      ]
     },
     "execution_count": 70,
     "metadata": {},
     "output_type": "execute_result"
    }
   ],
   "source": [
    "under_sample.head()"
   ]
  },
  {
   "cell_type": "code",
   "execution_count": 80,
   "metadata": {},
   "outputs": [],
   "source": [
    "to_drop=[\"Price\",\"Bid\",\"Ask\",\"Size\",\"5min_ret\",\"5min_ret_sign\"]\n",
    "y=under_sample[\"5min_ret_sign\"]\n",
    "X=under_sample.drop(to_drop,axis=1)"
   ]
  },
  {
   "cell_type": "code",
   "execution_count": 81,
   "metadata": {},
   "outputs": [],
   "source": [
    "from sklearn.preprocessing import LabelEncoder"
   ]
  },
  {
   "cell_type": "code",
   "execution_count": 82,
   "metadata": {},
   "outputs": [],
   "source": [
    "le = LabelEncoder()\n",
    "le.fit(X[\"TickDirection\"].tolist())\n",
    "X[\"TickDirection\"]=le.transform(X[\"TickDirection\"])\n",
    "\n",
    "le.fit(X[\"LRDirection\"])\n",
    "X[\"LRDirection\"]=le.transform(X[\"LRDirection\"])\n"
   ]
  },
  {
   "cell_type": "code",
   "execution_count": 83,
   "metadata": {},
   "outputs": [],
   "source": [
    "from sklearn.model_selection import train_test_split\n",
    "X_train,X_val,y_train,y_val=train_test_split(X,y,test_size=0.2)"
   ]
  },
  {
   "cell_type": "markdown",
   "metadata": {},
   "source": [
    "#### Logistic Regression"
   ]
  },
  {
   "cell_type": "code",
   "execution_count": 2,
   "metadata": {},
   "outputs": [
    {
     "name": "stdout",
     "output_type": "stream",
     "text": [
      "The validation accuracy is: 0.5584239130434783\n"
     ]
    }
   ],
   "source": [
    "model=LogisticRegression()\n",
    "model.fit(X_train,y_train)\n",
    "pred=model.predict(X_val)\n",
    "print(\"The validation accuracy is:\", accuracy_score(pred,y_val))\n"
   ]
  },
  {
   "cell_type": "markdown",
   "metadata": {},
   "source": [
    "#### Gaussian Naive-Bayes"
   ]
  },
  {
   "cell_type": "code",
   "execution_count": 85,
   "metadata": {},
   "outputs": [],
   "source": [
    "from sklearn.naive_bayes import GaussianNB"
   ]
  },
  {
   "cell_type": "code",
   "execution_count": 3,
   "metadata": {},
   "outputs": [
    {
     "name": "stdout",
     "output_type": "stream",
     "text": [
      "The validation accuracy is: 0.4917346014492754\n"
     ]
    }
   ],
   "source": [
    "gnb = GaussianNB()\n",
    "gnb.fit(X_train,y_train)\n",
    "pred=gnb.predict(X_val)\n",
    "print(\"The validation accuracy is:\", accuracy_score(pred,y_val))\n"
   ]
  },
  {
   "cell_type": "markdown",
   "metadata": {},
   "source": [
    "\n",
    "\n"
   ]
  },
  {
   "cell_type": "markdown",
   "metadata": {},
   "source": [
    "\n"
   ]
  },
  {
   "cell_type": "markdown",
   "metadata": {},
   "source": [
    "\n"
   ]
  },
  {
   "cell_type": "markdown",
   "metadata": {},
   "source": [
    "# 5) Execution Strategies"
   ]
  },
  {
   "cell_type": "code",
   "execution_count": 42,
   "metadata": {},
   "outputs": [
    {
     "data": {
      "text/html": [
       "<div>\n",
       "<style scoped>\n",
       "    .dataframe tbody tr th:only-of-type {\n",
       "        vertical-align: middle;\n",
       "    }\n",
       "\n",
       "    .dataframe tbody tr th {\n",
       "        vertical-align: top;\n",
       "    }\n",
       "\n",
       "    .dataframe thead th {\n",
       "        text-align: right;\n",
       "    }\n",
       "</style>\n",
       "<table border=\"1\" class=\"dataframe\">\n",
       "  <thead>\n",
       "    <tr style=\"text-align: right;\">\n",
       "      <th></th>\n",
       "      <th>Time</th>\n",
       "      <th>Trade Size (|qt|)</th>\n",
       "      <th>Price (pt)</th>\n",
       "    </tr>\n",
       "  </thead>\n",
       "  <tbody>\n",
       "    <tr>\n",
       "      <th>0</th>\n",
       "      <td>09:30:02</td>\n",
       "      <td>500</td>\n",
       "      <td>2.99</td>\n",
       "    </tr>\n",
       "    <tr>\n",
       "      <th>1</th>\n",
       "      <td>09:30:02</td>\n",
       "      <td>500</td>\n",
       "      <td>2.99</td>\n",
       "    </tr>\n",
       "    <tr>\n",
       "      <th>2</th>\n",
       "      <td>09:32:28</td>\n",
       "      <td>2400</td>\n",
       "      <td>3.03</td>\n",
       "    </tr>\n",
       "    <tr>\n",
       "      <th>3</th>\n",
       "      <td>09:33:35</td>\n",
       "      <td>100</td>\n",
       "      <td>3.03</td>\n",
       "    </tr>\n",
       "    <tr>\n",
       "      <th>4</th>\n",
       "      <td>09:33:38</td>\n",
       "      <td>100</td>\n",
       "      <td>3.02</td>\n",
       "    </tr>\n",
       "  </tbody>\n",
       "</table>\n",
       "</div>"
      ],
      "text/plain": [
       "       Time  Trade Size (|qt|)  Price (pt)\n",
       "0  09:30:02                500        2.99\n",
       "1  09:30:02                500        2.99\n",
       "2  09:32:28               2400        3.03\n",
       "3  09:33:35                100        3.03\n",
       "4  09:33:38                100        3.02"
      ]
     },
     "execution_count": 42,
     "metadata": {},
     "output_type": "execute_result"
    }
   ],
   "source": [
    "xyz=pd.read_excel(\"xyz_transactions.xlsx\")\n",
    "xyz.head()"
   ]
  },
  {
   "cell_type": "markdown",
   "metadata": {},
   "source": [
    "### Decision Price"
   ]
  },
  {
   "cell_type": "code",
   "execution_count": 43,
   "metadata": {},
   "outputs": [
    {
     "data": {
      "text/plain": [
       "3.05"
      ]
     },
     "execution_count": 43,
     "metadata": {},
     "output_type": "execute_result"
    }
   ],
   "source": [
    "#10'o clock is at index 88\n",
    "decision_price=xyz.iloc[88]\n",
    "decision_price=decision_price.iloc[2]\n",
    "decision_price"
   ]
  },
  {
   "cell_type": "markdown",
   "metadata": {},
   "source": [
    "### 20% POV"
   ]
  },
  {
   "cell_type": "code",
   "execution_count": 44,
   "metadata": {},
   "outputs": [
    {
     "data": {
      "text/plain": [
       "3.0600000000000005"
      ]
     },
     "execution_count": 44,
     "metadata": {},
     "output_type": "execute_result"
    }
   ],
   "source": [
    "freq=int(xyz.shape[0]/20)\n",
    "prices=[xyz[\"Price (pt)\"].iloc[freq*i-1] for i in range(1,21)]\n",
    "pov20_avg_price=sum(prices)/len(prices)\n",
    "pov20_avg_price"
   ]
  },
  {
   "cell_type": "markdown",
   "metadata": {},
   "source": [
    "### 10% POV"
   ]
  },
  {
   "cell_type": "code",
   "execution_count": 45,
   "metadata": {},
   "outputs": [
    {
     "data": {
      "text/plain": [
       "3.0550000000000006"
      ]
     },
     "execution_count": 45,
     "metadata": {},
     "output_type": "execute_result"
    }
   ],
   "source": [
    "freq=int(xyz.shape[0]/10)\n",
    "prices=[xyz[\"Price (pt)\"].iloc[freq*i-1] for i in range(1,11)]\n",
    "pov10_avg_price=sum(prices)/len(prices)\n",
    "pov10_avg_price"
   ]
  },
  {
   "cell_type": "markdown",
   "metadata": {},
   "source": [
    "### 5% POV"
   ]
  },
  {
   "cell_type": "code",
   "execution_count": 46,
   "metadata": {},
   "outputs": [
    {
     "data": {
      "text/plain": [
       "3.054"
      ]
     },
     "execution_count": 46,
     "metadata": {},
     "output_type": "execute_result"
    }
   ],
   "source": [
    "freq=int(xyz.shape[0]/5)\n",
    "prices=[xyz[\"Price (pt)\"].iloc[freq*i-1] for i in range(1,6)]\n",
    "pov5_avg_price=sum(prices)/len(prices)\n",
    "pov5_avg_price"
   ]
  },
  {
   "cell_type": "markdown",
   "metadata": {},
   "source": [
    "### VWAP to the close"
   ]
  },
  {
   "cell_type": "code",
   "execution_count": 47,
   "metadata": {},
   "outputs": [],
   "source": [
    "VWAP=sum(xyz[\"Trade Size (|qt|)\"].iloc[88:]*xyz[\"Price (pt)\"].iloc[88:])/xyz[\"Trade Size (|qt|)\"].iloc[88:].sum()"
   ]
  },
  {
   "cell_type": "code",
   "execution_count": 48,
   "metadata": {},
   "outputs": [
    {
     "data": {
      "text/plain": [
       "3.054371583874377"
      ]
     },
     "execution_count": 48,
     "metadata": {},
     "output_type": "execute_result"
    }
   ],
   "source": [
    "VWAP"
   ]
  },
  {
   "cell_type": "markdown",
   "metadata": {},
   "source": [
    "### TWAP (every 5 min)"
   ]
  },
  {
   "cell_type": "code",
   "execution_count": 49,
   "metadata": {},
   "outputs": [],
   "source": [
    "xyz.Time=pd.to_datetime(xyz.Time, format='%H:%M:%S', errors='ignore')\n",
    "xyz=xyz.set_index(\"Time\")"
   ]
  },
  {
   "cell_type": "code",
   "execution_count": 50,
   "metadata": {},
   "outputs": [
    {
     "data": {
      "text/html": [
       "<div>\n",
       "<style scoped>\n",
       "    .dataframe tbody tr th:only-of-type {\n",
       "        vertical-align: middle;\n",
       "    }\n",
       "\n",
       "    .dataframe tbody tr th {\n",
       "        vertical-align: top;\n",
       "    }\n",
       "\n",
       "    .dataframe thead th {\n",
       "        text-align: right;\n",
       "    }\n",
       "</style>\n",
       "<table border=\"1\" class=\"dataframe\">\n",
       "  <thead>\n",
       "    <tr style=\"text-align: right;\">\n",
       "      <th></th>\n",
       "      <th>Trade Size (|qt|)</th>\n",
       "      <th>Price (pt)</th>\n",
       "    </tr>\n",
       "    <tr>\n",
       "      <th>Time</th>\n",
       "      <th></th>\n",
       "      <th></th>\n",
       "    </tr>\n",
       "  </thead>\n",
       "  <tbody>\n",
       "    <tr>\n",
       "      <th>1900-01-01 09:30:00</th>\n",
       "      <td>500</td>\n",
       "      <td>2.99</td>\n",
       "    </tr>\n",
       "    <tr>\n",
       "      <th>1900-01-01 09:35:00</th>\n",
       "      <td>400</td>\n",
       "      <td>3.02</td>\n",
       "    </tr>\n",
       "    <tr>\n",
       "      <th>1900-01-01 09:40:00</th>\n",
       "      <td>100</td>\n",
       "      <td>3.01</td>\n",
       "    </tr>\n",
       "    <tr>\n",
       "      <th>1900-01-01 09:45:00</th>\n",
       "      <td>100</td>\n",
       "      <td>3.04</td>\n",
       "    </tr>\n",
       "    <tr>\n",
       "      <th>1900-01-01 09:50:00</th>\n",
       "      <td>100</td>\n",
       "      <td>3.04</td>\n",
       "    </tr>\n",
       "  </tbody>\n",
       "</table>\n",
       "</div>"
      ],
      "text/plain": [
       "                     Trade Size (|qt|)  Price (pt)\n",
       "Time                                              \n",
       "1900-01-01 09:30:00                500        2.99\n",
       "1900-01-01 09:35:00                400        3.02\n",
       "1900-01-01 09:40:00                100        3.01\n",
       "1900-01-01 09:45:00                100        3.04\n",
       "1900-01-01 09:50:00                100        3.04"
      ]
     },
     "execution_count": 50,
     "metadata": {},
     "output_type": "execute_result"
    }
   ],
   "source": [
    "every_5_min=xyz.resample(\"5T\").first()\n",
    "every_5_min.head()"
   ]
  },
  {
   "cell_type": "code",
   "execution_count": 51,
   "metadata": {},
   "outputs": [],
   "source": [
    "TWAP=every_5_min.mean()[\"Price (pt)\"]"
   ]
  },
  {
   "cell_type": "code",
   "execution_count": 52,
   "metadata": {},
   "outputs": [
    {
     "data": {
      "text/plain": [
       "3.0623128205128225"
      ]
     },
     "execution_count": 52,
     "metadata": {},
     "output_type": "execute_result"
    }
   ],
   "source": [
    "TWAP"
   ]
  },
  {
   "cell_type": "code",
   "execution_count": 53,
   "metadata": {},
   "outputs": [
    {
     "data": {
      "text/html": [
       "<div>\n",
       "<style scoped>\n",
       "    .dataframe tbody tr th:only-of-type {\n",
       "        vertical-align: middle;\n",
       "    }\n",
       "\n",
       "    .dataframe tbody tr th {\n",
       "        vertical-align: top;\n",
       "    }\n",
       "\n",
       "    .dataframe thead th {\n",
       "        text-align: right;\n",
       "    }\n",
       "</style>\n",
       "<table border=\"1\" class=\"dataframe\">\n",
       "  <thead>\n",
       "    <tr style=\"text-align: right;\">\n",
       "      <th></th>\n",
       "      <th>Decision Price</th>\n",
       "      <th>20% POV</th>\n",
       "      <th>10% POV</th>\n",
       "      <th>5% POV</th>\n",
       "      <th>VWAP</th>\n",
       "      <th>TWAP</th>\n",
       "    </tr>\n",
       "  </thead>\n",
       "  <tbody>\n",
       "    <tr>\n",
       "      <th>Price</th>\n",
       "      <td>3.05</td>\n",
       "      <td>3.06</td>\n",
       "      <td>3.055</td>\n",
       "      <td>3.054</td>\n",
       "      <td>3.054372</td>\n",
       "      <td>3.062313</td>\n",
       "    </tr>\n",
       "  </tbody>\n",
       "</table>\n",
       "</div>"
      ],
      "text/plain": [
       "       Decision Price  20% POV  10% POV  5% POV      VWAP      TWAP\n",
       "Price            3.05     3.06    3.055   3.054  3.054372  3.062313"
      ]
     },
     "execution_count": 53,
     "metadata": {},
     "output_type": "execute_result"
    }
   ],
   "source": [
    "price_comparison=pd.DataFrame([[decision_price,pov20_avg_price,pov10_avg_price,pov5_avg_price,VWAP,TWAP]],columns=[\"Decision Price\",\"20% POV\",\"10% POV\",\"5% POV\",\"VWAP\",\"TWAP\"],index=[\"Price\"])\n",
    "price_comparison"
   ]
  },
  {
   "cell_type": "markdown",
   "metadata": {},
   "source": [
    "#### The strategy to go with is the 5% POV, it's the closest to the decision price."
   ]
  },
  {
   "cell_type": "code",
   "execution_count": null,
   "metadata": {},
   "outputs": [],
   "source": []
  }
 ],
 "metadata": {
  "kernelspec": {
   "display_name": "Python 3",
   "language": "python",
   "name": "python3"
  },
  "language_info": {
   "codemirror_mode": {
    "name": "ipython",
    "version": 3
   },
   "file_extension": ".py",
   "mimetype": "text/x-python",
   "name": "python",
   "nbconvert_exporter": "python",
   "pygments_lexer": "ipython3",
   "version": "3.8.3"
  }
 },
 "nbformat": 4,
 "nbformat_minor": 4
}
